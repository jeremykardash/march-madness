{
 "cells": [
  {
   "cell_type": "code",
   "execution_count": 1,
   "metadata": {},
   "outputs": [],
   "source": [
    "#!pip install splinter"
   ]
  },
  {
   "cell_type": "code",
   "execution_count": 2,
   "metadata": {},
   "outputs": [],
   "source": [
    "# Dependencies\n",
    "from bs4 import BeautifulSoup\n",
    "import requests\n",
    "import pymongo\n",
    "import pandas as pd\n",
    "from splinter import Browser\n",
    "from webdriver_manager.chrome import ChromeDriverManager\n",
    "import numpy as np\n",
    "import matplotlib.pyplot as plt"
   ]
  },
  {
   "cell_type": "code",
   "execution_count": 3,
   "metadata": {},
   "outputs": [],
   "source": [
    "#Urls for Data scrape\n",
    "freeThrowPct = \"https://www.teamrankings.com/ncaa-basketball/stat/free-throw-pct\"\n",
    "astTo = \"https://www.teamrankings.com/ncaa-basketball/stat/assist--per--turnover-ratio\"\n",
    "eFG = \"https://www.teamrankings.com/ncaa-basketball/stat/effective-field-goal-pct\"\n",
    "defReb = \"https://www.teamrankings.com/ncaa-basketball/stat/defensive-rebounding-pct\"\n",
    "offReb = \"https://www.teamrankings.com/ncaa-basketball/stat/offensive-rebounding-pct\"\n",
    "oppEFG = \"https://www.teamrankings.com/ncaa-basketball/stat/opponent-effective-field-goal-pct\"\n",
    "defEff = \"https://www.teamrankings.com/ncaa-basketball/stat/defensive-efficiency\"\n",
    "teams = \"https://www.teamrankings.com/ncaa-basketball/ranking/predictive-by-other\"\n",
    "sos = \"https://www.teamrankings.com/ncaa-basketball/ranking/schedule-strength-by-other\""
   ]
  },
  {
   "cell_type": "code",
   "execution_count": 4,
   "metadata": {},
   "outputs": [
    {
     "name": "stderr",
     "output_type": "stream",
     "text": [
      "[WDM] - Current google-chrome version is 87.0.4280\n",
      "[WDM] - Get LATEST driver version for 87.0.4280\n",
      "[WDM] - Driver [/Users/jerkardash/.wdm/drivers/chromedriver/mac64/87.0.4280.88/chromedriver] found in cache\n"
     ]
    },
    {
     "name": "stdout",
     "output_type": "stream",
     "text": [
      " \n"
     ]
    }
   ],
   "source": [
    "#Launch chrome driver\n",
    "executable_path = {'executable_path': ChromeDriverManager().install()}\n",
    "browser = Browser('chrome', **executable_path, headless=False)"
   ]
  },
  {
   "cell_type": "code",
   "execution_count": 5,
   "metadata": {},
   "outputs": [],
   "source": [
    "#Process is iterative, visit browser\n",
    "browser.visit(freeThrowPct)"
   ]
  },
  {
   "cell_type": "code",
   "execution_count": 6,
   "metadata": {},
   "outputs": [],
   "source": [
    "#Create HTML object\n",
    "html = browser.html\n",
    "\n",
    "#Parse through with BS\n",
    "soup = BeautifulSoup(html, 'html.parser')"
   ]
  },
  {
   "cell_type": "code",
   "execution_count": 7,
   "metadata": {},
   "outputs": [],
   "source": [
    "#Get table from HTML\n",
    "table = soup.find_all('table')\n",
    "#Isolate fro DF\n",
    "df = pd.read_html(str(table))[0]\n",
    "df = df[[\"Team\", \"2020\"]]\n",
    "\n",
    "#Rename to catagory\n",
    "df_ft = df.rename(columns={\n",
    "    \"2020\": \"Free Throw %\"\n",
    "})\n",
    "#df_ft"
   ]
  },
  {
   "cell_type": "code",
   "execution_count": 8,
   "metadata": {},
   "outputs": [],
   "source": [
    "browser.visit(astTo)\n",
    "html = browser.html\n",
    "soup = BeautifulSoup(html, 'html.parser')"
   ]
  },
  {
   "cell_type": "code",
   "execution_count": 9,
   "metadata": {},
   "outputs": [],
   "source": [
    "table = soup.find_all('table')\n",
    "df = pd.read_html(str(table))[0]\n",
    "df = df[[\"Team\", \"2020\"]]\n",
    "df_ast = df.rename(columns={\n",
    "    \"2020\": \"AST/TO\"\n",
    "})\n",
    "#df_ast"
   ]
  },
  {
   "cell_type": "code",
   "execution_count": 10,
   "metadata": {},
   "outputs": [],
   "source": [
    "#Create a merged DF\n",
    "merged = df_ft.merge(df_ast, on=\"Team\")\n",
    "#merged"
   ]
  },
  {
   "cell_type": "code",
   "execution_count": 11,
   "metadata": {},
   "outputs": [],
   "source": [
    "browser.visit(eFG)\n",
    "html = browser.html\n",
    "soup = BeautifulSoup(html, 'html.parser')"
   ]
  },
  {
   "cell_type": "code",
   "execution_count": 12,
   "metadata": {},
   "outputs": [],
   "source": [
    "table = soup.find_all('table')\n",
    "df = pd.read_html(str(table))[0]\n",
    "df = df[[\"Team\", \"2020\"]]\n",
    "df_eFG = df.rename(columns={\n",
    "    \"2020\": \"EFG %\"\n",
    "})\n",
    "#df_eFG"
   ]
  },
  {
   "cell_type": "code",
   "execution_count": 13,
   "metadata": {},
   "outputs": [],
   "source": [
    "merged = merged.merge(df_eFG, on=\"Team\")\n",
    "#merged"
   ]
  },
  {
   "cell_type": "code",
   "execution_count": 14,
   "metadata": {},
   "outputs": [],
   "source": [
    "browser.visit(defReb)\n",
    "html = browser.html\n",
    "soup = BeautifulSoup(html, 'html.parser')"
   ]
  },
  {
   "cell_type": "code",
   "execution_count": 15,
   "metadata": {},
   "outputs": [],
   "source": [
    "table = soup.find_all('table')\n",
    "df = pd.read_html(str(table))[0]\n",
    "df = df[[\"Team\", \"2020\"]]\n",
    "df_defReb = df.rename(columns={\n",
    "    \"2020\": \"Def Reb %\"\n",
    "})\n",
    "#df_defReb"
   ]
  },
  {
   "cell_type": "code",
   "execution_count": 16,
   "metadata": {},
   "outputs": [],
   "source": [
    "merged = merged.merge(df_defReb, on=\"Team\")\n",
    "#merged"
   ]
  },
  {
   "cell_type": "code",
   "execution_count": 17,
   "metadata": {},
   "outputs": [],
   "source": [
    "browser.visit(offReb)\n",
    "html = browser.html\n",
    "soup = BeautifulSoup(html, 'html.parser')"
   ]
  },
  {
   "cell_type": "code",
   "execution_count": 18,
   "metadata": {},
   "outputs": [],
   "source": [
    "table = soup.find_all('table')\n",
    "df = pd.read_html(str(table))[0]\n",
    "df = df[[\"Team\", \"2020\"]]\n",
    "df_offReb = df.rename(columns={\n",
    "    \"2020\": \"Off Reb %\"\n",
    "})\n",
    "#df_offReb"
   ]
  },
  {
   "cell_type": "code",
   "execution_count": 19,
   "metadata": {},
   "outputs": [],
   "source": [
    "merged = merged.merge(df_offReb, on=\"Team\")\n",
    "#merged"
   ]
  },
  {
   "cell_type": "code",
   "execution_count": 20,
   "metadata": {},
   "outputs": [],
   "source": [
    "browser.visit(oppEFG)\n",
    "html = browser.html\n",
    "soup = BeautifulSoup(html, 'html.parser')"
   ]
  },
  {
   "cell_type": "code",
   "execution_count": 21,
   "metadata": {},
   "outputs": [],
   "source": [
    "table = soup.find_all('table')\n",
    "df = pd.read_html(str(table))[0]\n",
    "df = df[[\"Team\", \"2020\"]]\n",
    "df_oppEFG = df.rename(columns={\n",
    "    \"2020\": \"Opp EFG %\"\n",
    "})\n",
    "#df_oppEFG"
   ]
  },
  {
   "cell_type": "code",
   "execution_count": 22,
   "metadata": {},
   "outputs": [],
   "source": [
    "merged = merged.merge(df_oppEFG, on=\"Team\")\n",
    "#merged"
   ]
  },
  {
   "cell_type": "code",
   "execution_count": 23,
   "metadata": {},
   "outputs": [],
   "source": [
    "browser.visit(defEff)\n",
    "html = browser.html\n",
    "soup = BeautifulSoup(html, 'html.parser')"
   ]
  },
  {
   "cell_type": "code",
   "execution_count": 24,
   "metadata": {},
   "outputs": [],
   "source": [
    "table = soup.find_all('table')\n",
    "df = pd.read_html(str(table))[0]\n",
    "df = df[[\"Team\", \"2020\"]]\n",
    "df_defEff = df.rename(columns={\n",
    "    \"2020\": \"Def Eff\"\n",
    "})\n",
    "#df_defEff"
   ]
  },
  {
   "cell_type": "code",
   "execution_count": 25,
   "metadata": {},
   "outputs": [],
   "source": [
    "merged = merged.merge(df_defEff, on=\"Team\")\n",
    "#merged"
   ]
  },
  {
   "cell_type": "code",
   "execution_count": 26,
   "metadata": {},
   "outputs": [],
   "source": [
    "browser.visit(sos)\n",
    "html = browser.html\n",
    "soup = BeautifulSoup(html, 'html.parser')"
   ]
  },
  {
   "cell_type": "code",
   "execution_count": 27,
   "metadata": {},
   "outputs": [],
   "source": [
    "table = soup.find_all('table')\n",
    "df = pd.read_html(str(table))[0]\n",
    "df = df[[\"Team\", \"Rating\"]]\n",
    "df_sos = df.rename(columns={\n",
    "    \"2020\": \"SOS\"\n",
    "})"
   ]
  },
  {
   "cell_type": "code",
   "execution_count": 28,
   "metadata": {},
   "outputs": [],
   "source": [
    "#Take out record from team DF\n",
    "df_sos[\"Team\"] = df_sos[\"Team\"].str.rsplit(\" \", n=1, expand=True)"
   ]
  },
  {
   "cell_type": "code",
   "execution_count": 29,
   "metadata": {},
   "outputs": [],
   "source": [
    "fatdood_data = merged.merge(df_sos, on=\"Team\")\n",
    "#fatdood_data"
   ]
  },
  {
   "cell_type": "code",
   "execution_count": 30,
   "metadata": {},
   "outputs": [],
   "source": [
    "browser.quit()"
   ]
  },
  {
   "cell_type": "code",
   "execution_count": 31,
   "metadata": {},
   "outputs": [],
   "source": [
    "df = fatdood_data"
   ]
  },
  {
   "cell_type": "code",
   "execution_count": 32,
   "metadata": {},
   "outputs": [
    {
     "data": {
      "text/plain": [
       "Team             object\n",
       "Free Throw %     object\n",
       "AST/TO           object\n",
       "EFG %            object\n",
       "Def Reb %        object\n",
       "Off Reb %        object\n",
       "Opp EFG %        object\n",
       "Def Eff          object\n",
       "Rating          float64\n",
       "dtype: object"
      ]
     },
     "execution_count": 32,
     "metadata": {},
     "output_type": "execute_result"
    }
   ],
   "source": [
    "df.dtypes"
   ]
  },
  {
   "cell_type": "code",
   "execution_count": 33,
   "metadata": {},
   "outputs": [],
   "source": [
    "df.loc[df[\"Free Throw %\"] == \"--\", 'Free Throw %'] = np.nan\n",
    "df = df.dropna()"
   ]
  },
  {
   "cell_type": "code",
   "execution_count": 34,
   "metadata": {},
   "outputs": [],
   "source": [
    "#Take our percentage signs and make float to prepare for mean and SD\n",
    "\n",
    "df[\"Free Throw %\"] = df[\"Free Throw %\"].str[:-1]\n",
    "df[\"Free Throw %\"] = df[\"Free Throw %\"].astype(float)\n",
    "\n",
    "df[\"AST/TO\"] = df[\"AST/TO\"].astype(float)\n",
    "\n",
    "df[\"EFG %\"] = df[\"EFG %\"].str[:-1]\n",
    "df[\"EFG %\"] = df[\"EFG %\"].astype(float)\n",
    "\n",
    "df[\"Def Reb %\"] = df[\"Def Reb %\"].str[:-1]\n",
    "df[\"Def Reb %\"] = df[\"Def Reb %\"].astype(float)\n",
    "\n",
    "df[\"Off Reb %\"] = df[\"Off Reb %\"].str[:-1]\n",
    "df[\"Off Reb %\"] = df[\"Off Reb %\"].astype(float)\n",
    "\n",
    "df[\"Opp EFG %\"] = df[\"Opp EFG %\"].str[:-1]\n",
    "df[\"Opp EFG %\"] = df[\"Opp EFG %\"].astype(float)\n",
    "\n",
    "df[\"Def Eff\"] = df[\"Def Eff\"].astype(float)"
   ]
  },
  {
   "cell_type": "code",
   "execution_count": 35,
   "metadata": {},
   "outputs": [],
   "source": [
    "#Get mean of columns\n",
    "ft_mean = df[\"Free Throw %\"].mean()\n",
    "ast_mean = df[\"AST/TO\"].mean()\n",
    "efg_mean = df[\"EFG %\"].mean()\n",
    "defReb_mean = df[\"Def Reb %\"].mean()\n",
    "offReb_mean = df[\"Off Reb %\"].mean()\n",
    "oefg_mean = df[\"Opp EFG %\"].mean()\n",
    "defEff_mean = df[\"Def Eff\"].mean()\n",
    "sos_mean = df[\"Rating\"].mean()"
   ]
  },
  {
   "cell_type": "code",
   "execution_count": 36,
   "metadata": {},
   "outputs": [],
   "source": [
    "#Get SD of columns\n",
    "ft_sd = df[\"Free Throw %\"].std()\n",
    "ast_sd = df[\"AST/TO\"].std()\n",
    "efg_sd = df[\"EFG %\"].std()\n",
    "defReb_sd = df[\"Def Reb %\"].std()\n",
    "offReb_sd = df[\"Off Reb %\"].std()\n",
    "oefg_sd = df[\"Opp EFG %\"].std()\n",
    "defEff_sd = df[\"Def Eff\"].std()\n",
    "sos_sd = df[\"Rating\"].std()"
   ]
  },
  {
   "cell_type": "code",
   "execution_count": 37,
   "metadata": {},
   "outputs": [],
   "source": [
    "#Create Z-score for each value\n",
    "df[\"FT Score\"] = (df[\"Free Throw %\"] - ft_mean)/ft_sd\n",
    "df[\"AST Score\"] = (df[\"AST/TO\"] - ast_mean)/ast_sd\n",
    "df[\"EFG Score\"] = (df[\"EFG %\"] - efg_mean)/efg_sd\n",
    "df[\"Def Reb Score\"] = (df[\"Def Reb %\"] - defReb_mean)/defReb_sd\n",
    "df[\"Off Reb Score\"] = (df[\"Off Reb %\"] - offReb_mean)/offReb_sd\n",
    "df[\"Opp EFG Score\"] = (df[\"Opp EFG %\"] - oefg_mean)/oefg_sd\n",
    "df[\"Def Eff Score\"] = (df[\"Def Eff\"] - defEff_mean)/defEff_sd\n",
    "df[\"Rating Score\"] = (df[\"Rating\"] - sos_mean)/sos_sd"
   ]
  },
  {
   "cell_type": "code",
   "execution_count": 38,
   "metadata": {},
   "outputs": [],
   "source": [
    "#Create overall score\n",
    "df[\"Score\"] = (df[\"FT Score\"] + df[\"AST Score\"] + df[\"EFG Score\"] + df[\"Def Reb Score\"] + df[\"Off Reb Score\"] - df[\"Opp EFG Score\"] - df[\"Def Eff Score\"] + df[\"Rating Score\"])/8 "
   ]
  },
  {
   "cell_type": "code",
   "execution_count": 39,
   "metadata": {},
   "outputs": [
    {
     "data": {
      "text/html": [
       "<div>\n",
       "<style scoped>\n",
       "    .dataframe tbody tr th:only-of-type {\n",
       "        vertical-align: middle;\n",
       "    }\n",
       "\n",
       "    .dataframe tbody tr th {\n",
       "        vertical-align: top;\n",
       "    }\n",
       "\n",
       "    .dataframe thead th {\n",
       "        text-align: right;\n",
       "    }\n",
       "</style>\n",
       "<table border=\"1\" class=\"dataframe\">\n",
       "  <thead>\n",
       "    <tr style=\"text-align: right;\">\n",
       "      <th></th>\n",
       "      <th>Team</th>\n",
       "      <th>Free Throw %</th>\n",
       "      <th>AST/TO</th>\n",
       "      <th>EFG %</th>\n",
       "      <th>Def Reb %</th>\n",
       "      <th>Off Reb %</th>\n",
       "      <th>Opp EFG %</th>\n",
       "      <th>Def Eff</th>\n",
       "      <th>Rating</th>\n",
       "      <th>FT Score</th>\n",
       "      <th>AST Score</th>\n",
       "      <th>EFG Score</th>\n",
       "      <th>Def Reb Score</th>\n",
       "      <th>Off Reb Score</th>\n",
       "      <th>Opp EFG Score</th>\n",
       "      <th>Def Eff Score</th>\n",
       "      <th>Rating Score</th>\n",
       "      <th>Score</th>\n",
       "    </tr>\n",
       "  </thead>\n",
       "  <tbody>\n",
       "    <tr>\n",
       "      <th>111</th>\n",
       "      <td>Gonzaga</td>\n",
       "      <td>72.7</td>\n",
       "      <td>1.511</td>\n",
       "      <td>61.0</td>\n",
       "      <td>79.1</td>\n",
       "      <td>28.3</td>\n",
       "      <td>47.5</td>\n",
       "      <td>0.901</td>\n",
       "      <td>10.0</td>\n",
       "      <td>0.421887</td>\n",
       "      <td>2.394806</td>\n",
       "      <td>3.542185</td>\n",
       "      <td>1.526557</td>\n",
       "      <td>0.546350</td>\n",
       "      <td>-0.939524</td>\n",
       "      <td>-1.697134</td>\n",
       "      <td>1.567275</td>\n",
       "      <td>1.579465</td>\n",
       "    </tr>\n",
       "    <tr>\n",
       "      <th>68</th>\n",
       "      <td>Houston</td>\n",
       "      <td>74.1</td>\n",
       "      <td>1.212</td>\n",
       "      <td>50.8</td>\n",
       "      <td>76.8</td>\n",
       "      <td>39.6</td>\n",
       "      <td>43.4</td>\n",
       "      <td>0.860</td>\n",
       "      <td>6.3</td>\n",
       "      <td>0.755523</td>\n",
       "      <td>0.990856</td>\n",
       "      <td>0.260107</td>\n",
       "      <td>0.852470</td>\n",
       "      <td>3.026715</td>\n",
       "      <td>-2.360445</td>\n",
       "      <td>-2.432369</td>\n",
       "      <td>0.995588</td>\n",
       "      <td>1.459259</td>\n",
       "    </tr>\n",
       "    <tr>\n",
       "      <th>20</th>\n",
       "      <td>Michigan</td>\n",
       "      <td>77.8</td>\n",
       "      <td>1.395</td>\n",
       "      <td>54.9</td>\n",
       "      <td>78.4</td>\n",
       "      <td>27.6</td>\n",
       "      <td>44.9</td>\n",
       "      <td>0.942</td>\n",
       "      <td>12.4</td>\n",
       "      <td>1.637276</td>\n",
       "      <td>1.850129</td>\n",
       "      <td>1.579374</td>\n",
       "      <td>1.321400</td>\n",
       "      <td>0.392699</td>\n",
       "      <td>-1.840596</td>\n",
       "      <td>-0.961899</td>\n",
       "      <td>1.938099</td>\n",
       "      <td>1.440184</td>\n",
       "    </tr>\n",
       "    <tr>\n",
       "      <th>2</th>\n",
       "      <td>Virginia</td>\n",
       "      <td>81.7</td>\n",
       "      <td>1.482</td>\n",
       "      <td>56.1</td>\n",
       "      <td>80.3</td>\n",
       "      <td>21.1</td>\n",
       "      <td>47.9</td>\n",
       "      <td>0.969</td>\n",
       "      <td>10.2</td>\n",
       "      <td>2.566691</td>\n",
       "      <td>2.258637</td>\n",
       "      <td>1.965501</td>\n",
       "      <td>1.878255</td>\n",
       "      <td>-1.034060</td>\n",
       "      <td>-0.800897</td>\n",
       "      <td>-0.477719</td>\n",
       "      <td>1.598177</td>\n",
       "      <td>1.313977</td>\n",
       "    </tr>\n",
       "    <tr>\n",
       "      <th>245</th>\n",
       "      <td>Illinois</td>\n",
       "      <td>68.8</td>\n",
       "      <td>1.231</td>\n",
       "      <td>55.8</td>\n",
       "      <td>79.9</td>\n",
       "      <td>31.1</td>\n",
       "      <td>46.4</td>\n",
       "      <td>0.932</td>\n",
       "      <td>13.7</td>\n",
       "      <td>-0.507528</td>\n",
       "      <td>1.080070</td>\n",
       "      <td>1.868969</td>\n",
       "      <td>1.761022</td>\n",
       "      <td>1.160953</td>\n",
       "      <td>-1.320747</td>\n",
       "      <td>-1.141224</td>\n",
       "      <td>2.138962</td>\n",
       "      <td>1.245552</td>\n",
       "    </tr>\n",
       "    <tr>\n",
       "      <th>...</th>\n",
       "      <td>...</td>\n",
       "      <td>...</td>\n",
       "      <td>...</td>\n",
       "      <td>...</td>\n",
       "      <td>...</td>\n",
       "      <td>...</td>\n",
       "      <td>...</td>\n",
       "      <td>...</td>\n",
       "      <td>...</td>\n",
       "      <td>...</td>\n",
       "      <td>...</td>\n",
       "      <td>...</td>\n",
       "      <td>...</td>\n",
       "      <td>...</td>\n",
       "      <td>...</td>\n",
       "      <td>...</td>\n",
       "      <td>...</td>\n",
       "      <td>...</td>\n",
       "    </tr>\n",
       "    <tr>\n",
       "      <th>230</th>\n",
       "      <td>Air Force</td>\n",
       "      <td>69.3</td>\n",
       "      <td>0.853</td>\n",
       "      <td>52.1</td>\n",
       "      <td>65.6</td>\n",
       "      <td>13.3</td>\n",
       "      <td>57.4</td>\n",
       "      <td>1.107</td>\n",
       "      <td>-1.0</td>\n",
       "      <td>-0.388372</td>\n",
       "      <td>-0.694824</td>\n",
       "      <td>0.678411</td>\n",
       "      <td>-2.430042</td>\n",
       "      <td>-2.746170</td>\n",
       "      <td>2.491481</td>\n",
       "      <td>1.996975</td>\n",
       "      <td>-0.132335</td>\n",
       "      <td>-1.275223</td>\n",
       "    </tr>\n",
       "    <tr>\n",
       "      <th>316</th>\n",
       "      <td>San Jose St</td>\n",
       "      <td>65.6</td>\n",
       "      <td>0.755</td>\n",
       "      <td>44.7</td>\n",
       "      <td>66.1</td>\n",
       "      <td>18.2</td>\n",
       "      <td>52.6</td>\n",
       "      <td>1.127</td>\n",
       "      <td>-5.0</td>\n",
       "      <td>-1.270125</td>\n",
       "      <td>-1.154981</td>\n",
       "      <td>-1.702704</td>\n",
       "      <td>-2.283501</td>\n",
       "      <td>-1.670614</td>\n",
       "      <td>0.827964</td>\n",
       "      <td>2.355626</td>\n",
       "      <td>-0.750375</td>\n",
       "      <td>-1.501986</td>\n",
       "    </tr>\n",
       "    <tr>\n",
       "      <th>338</th>\n",
       "      <td>S Car State</td>\n",
       "      <td>62.1</td>\n",
       "      <td>0.571</td>\n",
       "      <td>44.8</td>\n",
       "      <td>66.8</td>\n",
       "      <td>24.1</td>\n",
       "      <td>55.4</td>\n",
       "      <td>1.065</td>\n",
       "      <td>-7.3</td>\n",
       "      <td>-2.104216</td>\n",
       "      <td>-2.018950</td>\n",
       "      <td>-1.670527</td>\n",
       "      <td>-2.078344</td>\n",
       "      <td>-0.375556</td>\n",
       "      <td>1.798349</td>\n",
       "      <td>1.243807</td>\n",
       "      <td>-1.105748</td>\n",
       "      <td>-1.549437</td>\n",
       "    </tr>\n",
       "    <tr>\n",
       "      <th>345</th>\n",
       "      <td>Miss Val St</td>\n",
       "      <td>57.2</td>\n",
       "      <td>0.614</td>\n",
       "      <td>43.6</td>\n",
       "      <td>64.7</td>\n",
       "      <td>15.8</td>\n",
       "      <td>54.9</td>\n",
       "      <td>1.161</td>\n",
       "      <td>-12.4</td>\n",
       "      <td>-3.271942</td>\n",
       "      <td>-1.817044</td>\n",
       "      <td>-2.056654</td>\n",
       "      <td>-2.693815</td>\n",
       "      <td>-2.197417</td>\n",
       "      <td>1.625066</td>\n",
       "      <td>2.965333</td>\n",
       "      <td>-1.893749</td>\n",
       "      <td>-2.315128</td>\n",
       "    </tr>\n",
       "    <tr>\n",
       "      <th>218</th>\n",
       "      <td>Chicago St</td>\n",
       "      <td>69.8</td>\n",
       "      <td>0.636</td>\n",
       "      <td>41.3</td>\n",
       "      <td>63.7</td>\n",
       "      <td>13.7</td>\n",
       "      <td>60.1</td>\n",
       "      <td>1.221</td>\n",
       "      <td>-5.2</td>\n",
       "      <td>-0.269217</td>\n",
       "      <td>-1.713744</td>\n",
       "      <td>-2.796730</td>\n",
       "      <td>-2.986896</td>\n",
       "      <td>-2.658370</td>\n",
       "      <td>3.427210</td>\n",
       "      <td>4.041287</td>\n",
       "      <td>-0.781277</td>\n",
       "      <td>-2.334341</td>\n",
       "    </tr>\n",
       "  </tbody>\n",
       "</table>\n",
       "<p>347 rows × 18 columns</p>\n",
       "</div>"
      ],
      "text/plain": [
       "            Team  Free Throw %  AST/TO  EFG %  Def Reb %  Off Reb %  \\\n",
       "111      Gonzaga          72.7   1.511   61.0       79.1       28.3   \n",
       "68       Houston          74.1   1.212   50.8       76.8       39.6   \n",
       "20      Michigan          77.8   1.395   54.9       78.4       27.6   \n",
       "2       Virginia          81.7   1.482   56.1       80.3       21.1   \n",
       "245     Illinois          68.8   1.231   55.8       79.9       31.1   \n",
       "..           ...           ...     ...    ...        ...        ...   \n",
       "230    Air Force          69.3   0.853   52.1       65.6       13.3   \n",
       "316  San Jose St          65.6   0.755   44.7       66.1       18.2   \n",
       "338  S Car State          62.1   0.571   44.8       66.8       24.1   \n",
       "345  Miss Val St          57.2   0.614   43.6       64.7       15.8   \n",
       "218   Chicago St          69.8   0.636   41.3       63.7       13.7   \n",
       "\n",
       "     Opp EFG %  Def Eff  Rating  FT Score  AST Score  EFG Score  \\\n",
       "111       47.5    0.901    10.0  0.421887   2.394806   3.542185   \n",
       "68        43.4    0.860     6.3  0.755523   0.990856   0.260107   \n",
       "20        44.9    0.942    12.4  1.637276   1.850129   1.579374   \n",
       "2         47.9    0.969    10.2  2.566691   2.258637   1.965501   \n",
       "245       46.4    0.932    13.7 -0.507528   1.080070   1.868969   \n",
       "..         ...      ...     ...       ...        ...        ...   \n",
       "230       57.4    1.107    -1.0 -0.388372  -0.694824   0.678411   \n",
       "316       52.6    1.127    -5.0 -1.270125  -1.154981  -1.702704   \n",
       "338       55.4    1.065    -7.3 -2.104216  -2.018950  -1.670527   \n",
       "345       54.9    1.161   -12.4 -3.271942  -1.817044  -2.056654   \n",
       "218       60.1    1.221    -5.2 -0.269217  -1.713744  -2.796730   \n",
       "\n",
       "     Def Reb Score  Off Reb Score  Opp EFG Score  Def Eff Score  Rating Score  \\\n",
       "111       1.526557       0.546350      -0.939524      -1.697134      1.567275   \n",
       "68        0.852470       3.026715      -2.360445      -2.432369      0.995588   \n",
       "20        1.321400       0.392699      -1.840596      -0.961899      1.938099   \n",
       "2         1.878255      -1.034060      -0.800897      -0.477719      1.598177   \n",
       "245       1.761022       1.160953      -1.320747      -1.141224      2.138962   \n",
       "..             ...            ...            ...            ...           ...   \n",
       "230      -2.430042      -2.746170       2.491481       1.996975     -0.132335   \n",
       "316      -2.283501      -1.670614       0.827964       2.355626     -0.750375   \n",
       "338      -2.078344      -0.375556       1.798349       1.243807     -1.105748   \n",
       "345      -2.693815      -2.197417       1.625066       2.965333     -1.893749   \n",
       "218      -2.986896      -2.658370       3.427210       4.041287     -0.781277   \n",
       "\n",
       "        Score  \n",
       "111  1.579465  \n",
       "68   1.459259  \n",
       "20   1.440184  \n",
       "2    1.313977  \n",
       "245  1.245552  \n",
       "..        ...  \n",
       "230 -1.275223  \n",
       "316 -1.501986  \n",
       "338 -1.549437  \n",
       "345 -2.315128  \n",
       "218 -2.334341  \n",
       "\n",
       "[347 rows x 18 columns]"
      ]
     },
     "execution_count": 39,
     "metadata": {},
     "output_type": "execute_result"
    }
   ],
   "source": [
    "#Sort by average Z-score\n",
    "df = df.sort_values(by=\"Score\", ascending=False)\n",
    "df"
   ]
  },
  {
   "cell_type": "code",
   "execution_count": 40,
   "metadata": {},
   "outputs": [],
   "source": [
    "#Export to excel\n",
    "df.to_excel(\"fatdood.xlsx\", sheet_name='All Teams')"
   ]
  },
  {
   "cell_type": "code",
   "execution_count": null,
   "metadata": {},
   "outputs": [],
   "source": []
  },
  {
   "cell_type": "code",
   "execution_count": null,
   "metadata": {},
   "outputs": [],
   "source": []
  },
  {
   "cell_type": "code",
   "execution_count": null,
   "metadata": {},
   "outputs": [],
   "source": []
  },
  {
   "cell_type": "code",
   "execution_count": null,
   "metadata": {},
   "outputs": [],
   "source": []
  },
  {
   "cell_type": "code",
   "execution_count": null,
   "metadata": {},
   "outputs": [],
   "source": []
  },
  {
   "cell_type": "code",
   "execution_count": null,
   "metadata": {},
   "outputs": [],
   "source": []
  }
 ],
 "metadata": {
  "kernelspec": {
   "display_name": "Python 3",
   "language": "python",
   "name": "python3"
  },
  "language_info": {
   "codemirror_mode": {
    "name": "ipython",
    "version": 3
   },
   "file_extension": ".py",
   "mimetype": "text/x-python",
   "name": "python",
   "nbconvert_exporter": "python",
   "pygments_lexer": "ipython3",
   "version": "3.8.3"
  }
 },
 "nbformat": 4,
 "nbformat_minor": 4
}
